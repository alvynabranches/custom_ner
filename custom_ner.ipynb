{
 "cells": [
  {
   "cell_type": "code",
   "execution_count": 1,
   "metadata": {},
   "outputs": [],
   "source": [
    "import os, sys, time, numpy as np, pandas as pd"
   ]
  },
  {
   "cell_type": "code",
   "execution_count": 2,
   "metadata": {},
   "outputs": [
    {
     "name": "stdout",
     "output_type": "stream",
     "text": [
      "Time Taken: 11.39 seconds\n"
     ]
    }
   ],
   "source": [
    "s = time.perf_counter()\n",
    "df = pd.read_excel('./data/indeed_results.xlsx')\n",
    "e = time.perf_counter()\n",
    "print(f'Time Taken: {e-s:.2f} seconds')"
   ]
  },
  {
   "cell_type": "code",
   "execution_count": 3,
   "metadata": {},
   "outputs": [
    {
     "data": {
      "text/html": [
       "<div>\n",
       "<style scoped>\n",
       "    .dataframe tbody tr th:only-of-type {\n",
       "        vertical-align: middle;\n",
       "    }\n",
       "\n",
       "    .dataframe tbody tr th {\n",
       "        vertical-align: top;\n",
       "    }\n",
       "\n",
       "    .dataframe thead th {\n",
       "        text-align: right;\n",
       "    }\n",
       "</style>\n",
       "<table border=\"1\" class=\"dataframe\">\n",
       "  <thead>\n",
       "    <tr style=\"text-align: right;\">\n",
       "      <th></th>\n",
       "      <th>Title</th>\n",
       "      <th>Location</th>\n",
       "      <th>Company</th>\n",
       "      <th>Salary</th>\n",
       "      <th>Sponsored</th>\n",
       "      <th>Description</th>\n",
       "      <th>Time</th>\n",
       "    </tr>\n",
       "  </thead>\n",
       "  <tbody>\n",
       "    <tr>\n",
       "      <th>0</th>\n",
       "      <td>Delivery Drivers / Delivery Executives / Deliv...</td>\n",
       "      <td>Guwahati</td>\n",
       "      <td>Ride.Swiggy</td>\n",
       "      <td>₹25,000 - ₹35,000 a month</td>\n",
       "      <td>Sponsored</td>\n",
       "      <td>\"Official Job posted from Swiggy\"\\nJoin Swiggy...</td>\n",
       "      <td>2019-11-15</td>\n",
       "    </tr>\n",
       "    <tr>\n",
       "      <th>1</th>\n",
       "      <td>Primary Teacher (Relocation to Chitrakoot UP)</td>\n",
       "      <td>Guwahati</td>\n",
       "      <td>Ashok Public School Chitrakoot UP</td>\n",
       "      <td>NaN</td>\n",
       "      <td>Sponsored</td>\n",
       "      <td>Candidates Who are willing to relocate at Chit...</td>\n",
       "      <td>2020-02-06</td>\n",
       "    </tr>\n",
       "    <tr>\n",
       "      <th>2</th>\n",
       "      <td>Graphic Designer</td>\n",
       "      <td>Guwahati</td>\n",
       "      <td>Supermark Agency</td>\n",
       "      <td>₹15,000 - ₹20,000 a month</td>\n",
       "      <td>Sponsored</td>\n",
       "      <td>Job Summary\\nThe ideal candidate will have str...</td>\n",
       "      <td>2020-01-18</td>\n",
       "    </tr>\n",
       "    <tr>\n",
       "      <th>3</th>\n",
       "      <td>Sales Executive (Kitchenware &amp; Utensils )</td>\n",
       "      <td>Guwahati</td>\n",
       "      <td>Global Prospects</td>\n",
       "      <td>₹1,75,000 - ₹2,50,000 a year</td>\n",
       "      <td>Organic</td>\n",
       "      <td>Job Description\\nSales Executive ( Distributor...</td>\n",
       "      <td>2020-02-22</td>\n",
       "    </tr>\n",
       "    <tr>\n",
       "      <th>4</th>\n",
       "      <td>Digital Marketing Executive</td>\n",
       "      <td>Guwahati</td>\n",
       "      <td>Global Prospects</td>\n",
       "      <td>₹1,00,000 - ₹1,50,000 a year</td>\n",
       "      <td>Organic</td>\n",
       "      <td>Job Description\\nJob Summary\\nWe are looking f...</td>\n",
       "      <td>2019-12-30</td>\n",
       "    </tr>\n",
       "  </tbody>\n",
       "</table>\n",
       "</div>"
      ],
      "text/plain": [
       "                                               Title  Location  \\\n",
       "0  Delivery Drivers / Delivery Executives / Deliv...  Guwahati   \n",
       "1      Primary Teacher (Relocation to Chitrakoot UP)  Guwahati   \n",
       "2                                   Graphic Designer  Guwahati   \n",
       "3          Sales Executive (Kitchenware & Utensils )  Guwahati   \n",
       "4                        Digital Marketing Executive  Guwahati   \n",
       "\n",
       "                             Company                        Salary  Sponsored  \\\n",
       "0                        Ride.Swiggy     ₹25,000 - ₹35,000 a month  Sponsored   \n",
       "1  Ashok Public School Chitrakoot UP                           NaN  Sponsored   \n",
       "2                   Supermark Agency     ₹15,000 - ₹20,000 a month  Sponsored   \n",
       "3                   Global Prospects  ₹1,75,000 - ₹2,50,000 a year    Organic   \n",
       "4                   Global Prospects  ₹1,00,000 - ₹1,50,000 a year    Organic   \n",
       "\n",
       "                                         Description        Time  \n",
       "0  \"Official Job posted from Swiggy\"\\nJoin Swiggy...  2019-11-15  \n",
       "1  Candidates Who are willing to relocate at Chit...  2020-02-06  \n",
       "2  Job Summary\\nThe ideal candidate will have str...  2020-01-18  \n",
       "3  Job Description\\nSales Executive ( Distributor...  2020-02-22  \n",
       "4  Job Description\\nJob Summary\\nWe are looking f...  2019-12-30  "
      ]
     },
     "execution_count": 3,
     "metadata": {},
     "output_type": "execute_result"
    }
   ],
   "source": [
    "df.head()"
   ]
  },
  {
   "cell_type": "code",
   "execution_count": 4,
   "metadata": {},
   "outputs": [],
   "source": [
    "description = df['Description'].dropna().reset_index()['Description']"
   ]
  },
  {
   "cell_type": "code",
   "execution_count": 5,
   "metadata": {},
   "outputs": [
    {
     "data": {
      "text/html": [
       "<div>\n",
       "<style scoped>\n",
       "    .dataframe tbody tr th:only-of-type {\n",
       "        vertical-align: middle;\n",
       "    }\n",
       "\n",
       "    .dataframe tbody tr th {\n",
       "        vertical-align: top;\n",
       "    }\n",
       "\n",
       "    .dataframe thead th {\n",
       "        text-align: right;\n",
       "    }\n",
       "</style>\n",
       "<table border=\"1\" class=\"dataframe\">\n",
       "  <thead>\n",
       "    <tr style=\"text-align: right;\">\n",
       "      <th></th>\n",
       "      <th>Title</th>\n",
       "      <th>Location</th>\n",
       "      <th>Company</th>\n",
       "      <th>Salary</th>\n",
       "      <th>Sponsored</th>\n",
       "      <th>Description</th>\n",
       "      <th>Time</th>\n",
       "    </tr>\n",
       "  </thead>\n",
       "  <tbody>\n",
       "    <tr>\n",
       "      <th>0</th>\n",
       "      <td>Delivery Drivers / Delivery Executives / Deliv...</td>\n",
       "      <td>Guwahati</td>\n",
       "      <td>Ride.Swiggy</td>\n",
       "      <td>₹25,000 - ₹35,000 a month</td>\n",
       "      <td>Sponsored</td>\n",
       "      <td>\"Official Job posted from Swiggy\"\\nJoin Swiggy...</td>\n",
       "      <td>2019-11-15</td>\n",
       "    </tr>\n",
       "    <tr>\n",
       "      <th>1</th>\n",
       "      <td>Primary Teacher (Relocation to Chitrakoot UP)</td>\n",
       "      <td>Guwahati</td>\n",
       "      <td>Ashok Public School Chitrakoot UP</td>\n",
       "      <td>NaN</td>\n",
       "      <td>Sponsored</td>\n",
       "      <td>Candidates Who are willing to relocate at Chit...</td>\n",
       "      <td>2020-02-06</td>\n",
       "    </tr>\n",
       "    <tr>\n",
       "      <th>2</th>\n",
       "      <td>Graphic Designer</td>\n",
       "      <td>Guwahati</td>\n",
       "      <td>Supermark Agency</td>\n",
       "      <td>₹15,000 - ₹20,000 a month</td>\n",
       "      <td>Sponsored</td>\n",
       "      <td>Job Summary\\nThe ideal candidate will have str...</td>\n",
       "      <td>2020-01-18</td>\n",
       "    </tr>\n",
       "    <tr>\n",
       "      <th>3</th>\n",
       "      <td>Sales Executive (Kitchenware &amp; Utensils )</td>\n",
       "      <td>Guwahati</td>\n",
       "      <td>Global Prospects</td>\n",
       "      <td>₹1,75,000 - ₹2,50,000 a year</td>\n",
       "      <td>Organic</td>\n",
       "      <td>Job Description\\nSales Executive ( Distributor...</td>\n",
       "      <td>2020-02-22</td>\n",
       "    </tr>\n",
       "    <tr>\n",
       "      <th>4</th>\n",
       "      <td>Digital Marketing Executive</td>\n",
       "      <td>Guwahati</td>\n",
       "      <td>Global Prospects</td>\n",
       "      <td>₹1,00,000 - ₹1,50,000 a year</td>\n",
       "      <td>Organic</td>\n",
       "      <td>Job Description\\nJob Summary\\nWe are looking f...</td>\n",
       "      <td>2019-12-30</td>\n",
       "    </tr>\n",
       "  </tbody>\n",
       "</table>\n",
       "</div>"
      ],
      "text/plain": [
       "                                               Title  Location  \\\n",
       "0  Delivery Drivers / Delivery Executives / Deliv...  Guwahati   \n",
       "1      Primary Teacher (Relocation to Chitrakoot UP)  Guwahati   \n",
       "2                                   Graphic Designer  Guwahati   \n",
       "3          Sales Executive (Kitchenware & Utensils )  Guwahati   \n",
       "4                        Digital Marketing Executive  Guwahati   \n",
       "\n",
       "                             Company                        Salary  Sponsored  \\\n",
       "0                        Ride.Swiggy     ₹25,000 - ₹35,000 a month  Sponsored   \n",
       "1  Ashok Public School Chitrakoot UP                           NaN  Sponsored   \n",
       "2                   Supermark Agency     ₹15,000 - ₹20,000 a month  Sponsored   \n",
       "3                   Global Prospects  ₹1,75,000 - ₹2,50,000 a year    Organic   \n",
       "4                   Global Prospects  ₹1,00,000 - ₹1,50,000 a year    Organic   \n",
       "\n",
       "                                         Description        Time  \n",
       "0  \"Official Job posted from Swiggy\"\\nJoin Swiggy...  2019-11-15  \n",
       "1  Candidates Who are willing to relocate at Chit...  2020-02-06  \n",
       "2  Job Summary\\nThe ideal candidate will have str...  2020-01-18  \n",
       "3  Job Description\\nSales Executive ( Distributor...  2020-02-22  \n",
       "4  Job Description\\nJob Summary\\nWe are looking f...  2019-12-30  "
      ]
     },
     "execution_count": 5,
     "metadata": {},
     "output_type": "execute_result"
    }
   ],
   "source": [
    "df.head()"
   ]
  },
  {
   "cell_type": "code",
   "execution_count": 6,
   "metadata": {},
   "outputs": [
    {
     "data": {
      "text/plain": [
       "0    \"Official Job posted from Swiggy\"\\nJoin Swiggy...\n",
       "1    Candidates Who are willing to relocate at Chit...\n",
       "2    Job Summary\\nThe ideal candidate will have str...\n",
       "3    Job Description\\nSales Executive ( Distributor...\n",
       "4    Job Description\\nJob Summary\\nWe are looking f...\n",
       "Name: Description, dtype: object"
      ]
     },
     "execution_count": 6,
     "metadata": {},
     "output_type": "execute_result"
    }
   ],
   "source": [
    "description.head()"
   ]
  },
  {
   "cell_type": "code",
   "execution_count": 7,
   "metadata": {},
   "outputs": [],
   "source": [
    "pre_processed=description.apply(lambda x: str(x).replace('Job Summary','').replace('Job Description','').replace('\\n',' ').replace('(',' ').replace(')',' ').replace('|',' ').replace('  ',' ').replace('  ',''))"
   ]
  },
  {
   "cell_type": "code",
   "execution_count": 8,
   "metadata": {},
   "outputs": [
    {
     "data": {
      "text/plain": [
       "0    \"Official Job posted from Swiggy\" Join Swiggy ...\n",
       "1    Candidates Who are willing to relocate at Chit...\n",
       "2     The ideal candidate will have strong creative...\n",
       "3     Sales ExecutiveDistributor Payroll we are Urg...\n",
       "4     We are looking for passionate and aspiring yo...\n",
       "Name: Description, dtype: object"
      ]
     },
     "execution_count": 8,
     "metadata": {},
     "output_type": "execute_result"
    }
   ],
   "source": [
    "pre_processed.head()"
   ]
  },
  {
   "cell_type": "code",
   "execution_count": 9,
   "metadata": {},
   "outputs": [
    {
     "data": {
      "text/plain": [
       "'\"Official Job posted from Swiggy\" Join Swiggy family as Part-Time or a Full-time Food Delivery executive. Who can be an ideal Rider/Driver/ Delivery Boy/Logistics/ Admin / Delivery Executive for Swiggy? Minimum qualification - Fresher, 10th pass, 12th pass, Graduate, New Graduates, Trainee Candidates with prior experience in Data entry, Call Centre, Admin, Collection Agents, Collection Executives, Customer Support Executive, Office Assistant, Driver, Delivery Boys, Back Office, Teacher, Banking, Accounts, Operator can apply to maximize their earnings up to 25,000 per month. Documents to be carried for Walk-in: Valid Two-wheeler Driver License and Driver RC book PAN Card or Acknowledgment of PAN application Aadhaar Card or voter ID Benefits: Flexible working hours for security guards, computer operators, account executives night shifts/weekend Attractive Weekly, weekend and monthly Incentives for 10th pass, 12th pass Insurance Cover up to Rs 6,00,000/- EMI option is possible if you don’t have a BIKE Potential to earn for Full time / Part-time / Night shift / Weekend : Up to 8500 INR / week Salary: Up to ₹35,000.00 /month Job Types: Full-time, Part-time, Temporary, Contract, Commission, Fresher, ... Salary: ₹25,000.00 to ₹35,000.00 /month Benefits: Health insurance Provident fund PF Travel allowance Meal card / Food coupons Flexible work hours Phone / Internet reimbursement Joining bonus Shift allowance Industry: Food Preparation & Service Job Duties: Delivering to residential locations'"
      ]
     },
     "execution_count": 9,
     "metadata": {},
     "output_type": "execute_result"
    }
   ],
   "source": [
    "pre_processed[0]"
   ]
  },
  {
   "cell_type": "code",
   "execution_count": 10,
   "metadata": {},
   "outputs": [
    {
     "data": {
      "text/plain": [
       "(44853,)"
      ]
     },
     "execution_count": 10,
     "metadata": {},
     "output_type": "execute_result"
    }
   ],
   "source": [
    "pre_processed.shape"
   ]
  },
  {
   "cell_type": "code",
   "execution_count": 11,
   "metadata": {},
   "outputs": [
    {
     "data": {
      "text/plain": [
       "44853"
      ]
     },
     "execution_count": 11,
     "metadata": {},
     "output_type": "execute_result"
    }
   ],
   "source": [
    "pre_processed.shape[0]"
   ]
  },
  {
   "cell_type": "code",
   "execution_count": 12,
   "metadata": {},
   "outputs": [
    {
     "data": {
      "text/plain": [
       "': If you are a Software Engineer with extensive front end focused Development. Experience utilizing JavaScript ES6 and Angular.js, please read on! Role We are looking for Front End Developer to apply their expertise in browser-based app development and expansive knowledge of coding best practices to deliver high quality, user-friendly products using best practices for user experiences. Candidate should have the ability to write clean JavaScript, Angular based code, even when faced with a challenge. Work with full-stack engineers/architects to solve API problems. Use MVC. Use object oriented designs and SOLID principals. If this sound like you, then how does joining a growing multi-disciplinary core fantastic IoT R&D team to develop new capabilities and workflows to solve real-world problems sound? Top Reasons to Work with us: 1. Among top 5 IoT companies in APAC region. 2. Wonderful Growth. 3. Great Work, Life Balance. 4. Excellent benefits. 5. Excellent core technical team, using Agile methodologies. What You Will Be Doing: 1. Be part of a full team delivering a complete front end application 2. Ensuring high performance on mobile and desktop 3. Cooperating with the back-end developer in the process of building the RESTful API 4. Develop/Design, implement and test high quality web applications in a cloud-based environment. 5. Help brainstorm and plan new applications and web services. 6. You will take ownership of technical problems and their resolution, including proactively 7. communicating with product managers, developers, architects, and the operations team. 8. Provide accurate effort-estimates for deliverables. 9. Be committed to the deadlines. What You Need for this Position Must have : 1. Minimum 6-8 Months working experience in Hybrid Mobile Application development using IONIC Framework, Cordova, Angular2/4/5/6. 2. Strong proficiency in JavaScript and the JavaScript object model, JS MVC frameworks such as AngularJS Angular2/4/5/6 or ReactJS, RxJS/Redux. 4. Proficient with modern web technologies such as CSS3, HTML5, Bootstrap, and/or jQuery. 5. Experience or strong knowledge of RESTful APIs and Web Services. Nice to Have 1. Experience or knowledge of Networking/Protocols. 2. Source Control Management experience with SVN. 3. Agile Development experience. 4. B.E. in Computer Science or similar is preferred. 5. Experience with Server Side code with Node.js/Express.js Benefits: 1. Remuneration will be proportional to your level of experience. 2. Performance will be regularly reviewed and merits will be commensurate with successful results and the financial profits we collectively achieve as a team. 3. You will also grow your expertise in a challenging and exciting environment.'"
      ]
     },
     "execution_count": 12,
     "metadata": {},
     "output_type": "execute_result"
    }
   ],
   "source": [
    "pre_processed[np.random.randint(low=0,high=pre_processed.shape[0])]"
   ]
  },
  {
   "cell_type": "code",
   "execution_count": 13,
   "metadata": {},
   "outputs": [
    {
     "data": {
      "text/plain": [
       "'Short Description Big Data Engineer Hadoop – 4 to 6 Years – Hyderabad Qualifications Bachelors in Engineering Job Responsibilities : Should be ready to work in shifts 1 to 10 30 pm Hands on experience on writing shell scripts complex sql queries Hadoop commands and Git Ability to write abstracted reusable code components Programming experience in at least one of the following languages Scala Java or Python mindset Performance tuning experience Experience in developing Hive Sqoop Spark HBase on Hadoop Familiar with Ab Intio Hortonworks Zookeeper Oozie and Kafka is a plus Willingness to learn new technologies quickly Superior oral and written communication skills as well as the Willingness to collaborate across teams of internal and external technical staff business analysts software support and operations staff'"
      ]
     },
     "execution_count": 13,
     "metadata": {},
     "output_type": "execute_result"
    }
   ],
   "source": [
    "pre_processed[np.random.randint(low=0,high=pre_processed.shape[0])]"
   ]
  },
  {
   "cell_type": "code",
   "execution_count": null,
   "metadata": {},
   "outputs": [],
   "source": []
  }
 ],
 "metadata": {
  "kernelspec": {
   "display_name": "Python 3",
   "language": "python",
   "name": "python3"
  },
  "language_info": {
   "codemirror_mode": {
    "name": "ipython",
    "version": 3
   },
   "file_extension": ".py",
   "mimetype": "text/x-python",
   "name": "python",
   "nbconvert_exporter": "python",
   "pygments_lexer": "ipython3",
   "version": "3.8.5"
  }
 },
 "nbformat": 4,
 "nbformat_minor": 2
}
