{
 "cells": [
  {
   "cell_type": "code",
   "execution_count": 1,
   "metadata": {},
   "outputs": [],
   "source": [
    "import time, pandas as pd"
   ]
  },
  {
   "cell_type": "code",
   "execution_count": 2,
   "metadata": {},
   "outputs": [
    {
     "name": "stdout",
     "output_type": "stream",
     "text": [
      "Time Taken: 12.02 seconds\n"
     ]
    }
   ],
   "source": [
    "s = time.perf_counter()\n",
    "df = pd.read_excel('./data/indeed_results.xlsx')\n",
    "e = time.perf_counter()\n",
    "print(f'Time Taken: {e-s:.2f} seconds')"
   ]
  },
  {
   "cell_type": "code",
   "execution_count": 3,
   "metadata": {},
   "outputs": [
    {
     "data": {
      "text/html": [
       "<div>\n",
       "<style scoped>\n",
       "    .dataframe tbody tr th:only-of-type {\n",
       "        vertical-align: middle;\n",
       "    }\n",
       "\n",
       "    .dataframe tbody tr th {\n",
       "        vertical-align: top;\n",
       "    }\n",
       "\n",
       "    .dataframe thead th {\n",
       "        text-align: right;\n",
       "    }\n",
       "</style>\n",
       "<table border=\"1\" class=\"dataframe\">\n",
       "  <thead>\n",
       "    <tr style=\"text-align: right;\">\n",
       "      <th></th>\n",
       "      <th>Title</th>\n",
       "      <th>Location</th>\n",
       "      <th>Company</th>\n",
       "      <th>Salary</th>\n",
       "      <th>Sponsored</th>\n",
       "      <th>Description</th>\n",
       "      <th>Time</th>\n",
       "    </tr>\n",
       "  </thead>\n",
       "  <tbody>\n",
       "    <tr>\n",
       "      <th>0</th>\n",
       "      <td>Delivery Drivers / Delivery Executives / Deliv...</td>\n",
       "      <td>Guwahati</td>\n",
       "      <td>Ride.Swiggy</td>\n",
       "      <td>₹25,000 - ₹35,000 a month</td>\n",
       "      <td>Sponsored</td>\n",
       "      <td>\"Official Job posted from Swiggy\"\\nJoin Swiggy...</td>\n",
       "      <td>2019-11-15</td>\n",
       "    </tr>\n",
       "    <tr>\n",
       "      <th>1</th>\n",
       "      <td>Primary Teacher (Relocation to Chitrakoot UP)</td>\n",
       "      <td>Guwahati</td>\n",
       "      <td>Ashok Public School Chitrakoot UP</td>\n",
       "      <td>NaN</td>\n",
       "      <td>Sponsored</td>\n",
       "      <td>Candidates Who are willing to relocate at Chit...</td>\n",
       "      <td>2020-02-06</td>\n",
       "    </tr>\n",
       "    <tr>\n",
       "      <th>2</th>\n",
       "      <td>Graphic Designer</td>\n",
       "      <td>Guwahati</td>\n",
       "      <td>Supermark Agency</td>\n",
       "      <td>₹15,000 - ₹20,000 a month</td>\n",
       "      <td>Sponsored</td>\n",
       "      <td>Job Summary\\nThe ideal candidate will have str...</td>\n",
       "      <td>2020-01-18</td>\n",
       "    </tr>\n",
       "    <tr>\n",
       "      <th>3</th>\n",
       "      <td>Sales Executive (Kitchenware &amp; Utensils )</td>\n",
       "      <td>Guwahati</td>\n",
       "      <td>Global Prospects</td>\n",
       "      <td>₹1,75,000 - ₹2,50,000 a year</td>\n",
       "      <td>Organic</td>\n",
       "      <td>Job Description\\nSales Executive ( Distributor...</td>\n",
       "      <td>2020-02-22</td>\n",
       "    </tr>\n",
       "    <tr>\n",
       "      <th>4</th>\n",
       "      <td>Digital Marketing Executive</td>\n",
       "      <td>Guwahati</td>\n",
       "      <td>Global Prospects</td>\n",
       "      <td>₹1,00,000 - ₹1,50,000 a year</td>\n",
       "      <td>Organic</td>\n",
       "      <td>Job Description\\nJob Summary\\nWe are looking f...</td>\n",
       "      <td>2019-12-30</td>\n",
       "    </tr>\n",
       "  </tbody>\n",
       "</table>\n",
       "</div>"
      ],
      "text/plain": [
       "                                               Title  Location  \\\n",
       "0  Delivery Drivers / Delivery Executives / Deliv...  Guwahati   \n",
       "1      Primary Teacher (Relocation to Chitrakoot UP)  Guwahati   \n",
       "2                                   Graphic Designer  Guwahati   \n",
       "3          Sales Executive (Kitchenware & Utensils )  Guwahati   \n",
       "4                        Digital Marketing Executive  Guwahati   \n",
       "\n",
       "                             Company                        Salary  Sponsored  \\\n",
       "0                        Ride.Swiggy     ₹25,000 - ₹35,000 a month  Sponsored   \n",
       "1  Ashok Public School Chitrakoot UP                           NaN  Sponsored   \n",
       "2                   Supermark Agency     ₹15,000 - ₹20,000 a month  Sponsored   \n",
       "3                   Global Prospects  ₹1,75,000 - ₹2,50,000 a year    Organic   \n",
       "4                   Global Prospects  ₹1,00,000 - ₹1,50,000 a year    Organic   \n",
       "\n",
       "                                         Description        Time  \n",
       "0  \"Official Job posted from Swiggy\"\\nJoin Swiggy...  2019-11-15  \n",
       "1  Candidates Who are willing to relocate at Chit...  2020-02-06  \n",
       "2  Job Summary\\nThe ideal candidate will have str...  2020-01-18  \n",
       "3  Job Description\\nSales Executive ( Distributor...  2020-02-22  \n",
       "4  Job Description\\nJob Summary\\nWe are looking f...  2019-12-30  "
      ]
     },
     "execution_count": 3,
     "metadata": {},
     "output_type": "execute_result"
    }
   ],
   "source": [
    "df.head()"
   ]
  },
  {
   "cell_type": "code",
   "execution_count": 4,
   "metadata": {},
   "outputs": [],
   "source": [
    "description = df['Description'].dropna().reset_index()['Description']"
   ]
  },
  {
   "cell_type": "code",
   "execution_count": 5,
   "metadata": {},
   "outputs": [
    {
     "data": {
      "text/html": [
       "<div>\n",
       "<style scoped>\n",
       "    .dataframe tbody tr th:only-of-type {\n",
       "        vertical-align: middle;\n",
       "    }\n",
       "\n",
       "    .dataframe tbody tr th {\n",
       "        vertical-align: top;\n",
       "    }\n",
       "\n",
       "    .dataframe thead th {\n",
       "        text-align: right;\n",
       "    }\n",
       "</style>\n",
       "<table border=\"1\" class=\"dataframe\">\n",
       "  <thead>\n",
       "    <tr style=\"text-align: right;\">\n",
       "      <th></th>\n",
       "      <th>Title</th>\n",
       "      <th>Location</th>\n",
       "      <th>Company</th>\n",
       "      <th>Salary</th>\n",
       "      <th>Sponsored</th>\n",
       "      <th>Description</th>\n",
       "      <th>Time</th>\n",
       "    </tr>\n",
       "  </thead>\n",
       "  <tbody>\n",
       "    <tr>\n",
       "      <th>0</th>\n",
       "      <td>Delivery Drivers / Delivery Executives / Deliv...</td>\n",
       "      <td>Guwahati</td>\n",
       "      <td>Ride.Swiggy</td>\n",
       "      <td>₹25,000 - ₹35,000 a month</td>\n",
       "      <td>Sponsored</td>\n",
       "      <td>\"Official Job posted from Swiggy\"\\nJoin Swiggy...</td>\n",
       "      <td>2019-11-15</td>\n",
       "    </tr>\n",
       "    <tr>\n",
       "      <th>1</th>\n",
       "      <td>Primary Teacher (Relocation to Chitrakoot UP)</td>\n",
       "      <td>Guwahati</td>\n",
       "      <td>Ashok Public School Chitrakoot UP</td>\n",
       "      <td>NaN</td>\n",
       "      <td>Sponsored</td>\n",
       "      <td>Candidates Who are willing to relocate at Chit...</td>\n",
       "      <td>2020-02-06</td>\n",
       "    </tr>\n",
       "    <tr>\n",
       "      <th>2</th>\n",
       "      <td>Graphic Designer</td>\n",
       "      <td>Guwahati</td>\n",
       "      <td>Supermark Agency</td>\n",
       "      <td>₹15,000 - ₹20,000 a month</td>\n",
       "      <td>Sponsored</td>\n",
       "      <td>Job Summary\\nThe ideal candidate will have str...</td>\n",
       "      <td>2020-01-18</td>\n",
       "    </tr>\n",
       "    <tr>\n",
       "      <th>3</th>\n",
       "      <td>Sales Executive (Kitchenware &amp; Utensils )</td>\n",
       "      <td>Guwahati</td>\n",
       "      <td>Global Prospects</td>\n",
       "      <td>₹1,75,000 - ₹2,50,000 a year</td>\n",
       "      <td>Organic</td>\n",
       "      <td>Job Description\\nSales Executive ( Distributor...</td>\n",
       "      <td>2020-02-22</td>\n",
       "    </tr>\n",
       "    <tr>\n",
       "      <th>4</th>\n",
       "      <td>Digital Marketing Executive</td>\n",
       "      <td>Guwahati</td>\n",
       "      <td>Global Prospects</td>\n",
       "      <td>₹1,00,000 - ₹1,50,000 a year</td>\n",
       "      <td>Organic</td>\n",
       "      <td>Job Description\\nJob Summary\\nWe are looking f...</td>\n",
       "      <td>2019-12-30</td>\n",
       "    </tr>\n",
       "  </tbody>\n",
       "</table>\n",
       "</div>"
      ],
      "text/plain": [
       "                                               Title  Location  \\\n",
       "0  Delivery Drivers / Delivery Executives / Deliv...  Guwahati   \n",
       "1      Primary Teacher (Relocation to Chitrakoot UP)  Guwahati   \n",
       "2                                   Graphic Designer  Guwahati   \n",
       "3          Sales Executive (Kitchenware & Utensils )  Guwahati   \n",
       "4                        Digital Marketing Executive  Guwahati   \n",
       "\n",
       "                             Company                        Salary  Sponsored  \\\n",
       "0                        Ride.Swiggy     ₹25,000 - ₹35,000 a month  Sponsored   \n",
       "1  Ashok Public School Chitrakoot UP                           NaN  Sponsored   \n",
       "2                   Supermark Agency     ₹15,000 - ₹20,000 a month  Sponsored   \n",
       "3                   Global Prospects  ₹1,75,000 - ₹2,50,000 a year    Organic   \n",
       "4                   Global Prospects  ₹1,00,000 - ₹1,50,000 a year    Organic   \n",
       "\n",
       "                                         Description        Time  \n",
       "0  \"Official Job posted from Swiggy\"\\nJoin Swiggy...  2019-11-15  \n",
       "1  Candidates Who are willing to relocate at Chit...  2020-02-06  \n",
       "2  Job Summary\\nThe ideal candidate will have str...  2020-01-18  \n",
       "3  Job Description\\nSales Executive ( Distributor...  2020-02-22  \n",
       "4  Job Description\\nJob Summary\\nWe are looking f...  2019-12-30  "
      ]
     },
     "execution_count": 5,
     "metadata": {},
     "output_type": "execute_result"
    }
   ],
   "source": [
    "df.head()"
   ]
  },
  {
   "cell_type": "code",
   "execution_count": 6,
   "metadata": {},
   "outputs": [
    {
     "data": {
      "text/plain": [
       "0    \"Official Job posted from Swiggy\"\\nJoin Swiggy...\n",
       "1    Candidates Who are willing to relocate at Chit...\n",
       "2    Job Summary\\nThe ideal candidate will have str...\n",
       "3    Job Description\\nSales Executive ( Distributor...\n",
       "4    Job Description\\nJob Summary\\nWe are looking f...\n",
       "Name: Description, dtype: object"
      ]
     },
     "execution_count": 6,
     "metadata": {},
     "output_type": "execute_result"
    }
   ],
   "source": [
    "description.head()"
   ]
  },
  {
   "cell_type": "code",
   "execution_count": 7,
   "metadata": {},
   "outputs": [],
   "source": [
    "pre_processed=description.apply(lambda x: str(x).replace('Job Summary','').replace('Job Description','').replace('Short Description','').replace('\\n',' ').replace('(',' ').replace(')',' ').replace('/',' ').replace('|',' ').replace('  ',' ').replace('\"',' ').replace(\"'\",' ').replace('  ','').lstrip().rstrip())"
   ]
  },
  {
   "cell_type": "code",
   "execution_count": 8,
   "metadata": {},
   "outputs": [
    {
     "data": {
      "text/plain": [
       "0    Official Job posted from SwiggyJoin Swiggy fam...\n",
       "1    Candidates Who are willing to relocate at Chit...\n",
       "2    The ideal candidate will have strong creative ...\n",
       "3    Sales ExecutiveDistributor Payroll we are Urge...\n",
       "4    We are looking for passionate and aspiring you...\n",
       "Name: Description, dtype: object"
      ]
     },
     "execution_count": 8,
     "metadata": {},
     "output_type": "execute_result"
    }
   ],
   "source": [
    "pre_processed.head()"
   ]
  },
  {
   "cell_type": "code",
   "execution_count": 9,
   "metadata": {},
   "outputs": [
    {
     "data": {
      "text/plain": [
       "'Official Job posted from SwiggyJoin Swiggy family as Part-Time or a Full-time Food Delivery executive. Who can be an ideal Rider Driver Delivery Boy Logistics AdminDelivery Executive for Swiggy? Minimum qualification - Fresher, 10th pass, 12th pass, Graduate, New Graduates, Trainee Candidates with prior experience in Data entry, Call Centre, Admin, Collection Agents, Collection Executives, Customer Support Executive, Office Assistant, Driver, Delivery Boys, Back Office, Teacher, Banking, Accounts, Operator can apply to maximize their earnings up to 25,000 per month. Documents to be carried for Walk-in: Valid Two-wheeler Driver License and Driver RC book PAN Card or Acknowledgment of PAN application Aadhaar Card or voter ID Benefits: Flexible working hours for security guards, computer operators, account executives night shifts weekend Attractive Weekly, weekend and monthly Incentives for 10th pass, 12th pass Insurance Cover up to Rs 6,00,000 - EMI option is possible if you don’t have a BIKE Potential to earn for Full timePart-timeNight shiftWeekend : Up to 8500 INRweek Salary: Up to ₹35,000.00 month Job Types: Full-time, Part-time, Temporary, Contract, Commission, Fresher, ... Salary: ₹25,000.00 to ₹35,000.00 month Benefits: Health insurance Provident fund PF Travel allowance Meal cardFood coupons Flexible work hours PhoneInternet reimbursement Joining bonus Shift allowance Industry: Food Preparation & Service Job Duties: Delivering to residential locations'"
      ]
     },
     "execution_count": 9,
     "metadata": {},
     "output_type": "execute_result"
    }
   ],
   "source": [
    "pre_processed[0]"
   ]
  },
  {
   "cell_type": "code",
   "execution_count": 10,
   "metadata": {},
   "outputs": [
    {
     "data": {
      "text/plain": [
       "(44853,)"
      ]
     },
     "execution_count": 10,
     "metadata": {},
     "output_type": "execute_result"
    }
   ],
   "source": [
    "pre_processed.shape"
   ]
  },
  {
   "cell_type": "code",
   "execution_count": 11,
   "metadata": {},
   "outputs": [
    {
     "data": {
      "text/plain": [
       "44853"
      ]
     },
     "execution_count": 11,
     "metadata": {},
     "output_type": "execute_result"
    }
   ],
   "source": [
    "pre_processed.shape[0]"
   ]
  },
  {
   "cell_type": "code",
   "execution_count": 12,
   "metadata": {},
   "outputs": [
    {
     "data": {
      "text/plain": [
       "'To analyse data for the research projects and prepare reports. Candidate Profile: Be a Graduate Post Graduate in Statistics or Maths Be strong in anlaytical skills and logic and love analysing data to reveal underlying patterns Have knowledge of computers, MS-office, and other statistical tools Location: preferably Mumbai or Hyderabad'"
      ]
     },
     "execution_count": 12,
     "metadata": {},
     "output_type": "execute_result"
    }
   ],
   "source": [
    "pre_processed[np.random.randint(low=0,high=pre_processed.shape[0])]"
   ]
  },
  {
   "cell_type": "code",
   "execution_count": 13,
   "metadata": {},
   "outputs": [
    {
     "data": {
      "text/plain": [
       "'In this IOT engineer role, you will : - Build firmware for prototypes and technology explorations for the future of connected home devices. Work in a system with mobile apps, smart embedded devices, backend web services, big data, and consumer electronics. Contribute to the evolution of the mixture of clean technology and Internet of Thing. Build, test, and deploy firmware for prototypes and next generation wifi, ZigBee, Thread, and Bluetooth LE devices. Work with and explore other lowpower wireless communications technologies in the context of the connected home. Requirements: Experience with wifi, Bluetooth LE and ZigBee firmware development with a good understanding of the protocol and all stack layers. Experience with embedded Linux, including device driver development and the Yocto build system. Experience with testing and debugging embedded electronics, including operating knowledge of standard electronic test equipment. Strong C programmer, as well as some scripting language experience e.g., Python or Ruby Good familiarity with high speed wireless schematics, layouts and protocols. Excellent functional knowledge of embedded systems including microprocessors, microcontrollers, wireless semiconductors, regulators, standard digital logic ICs, and discrete semiconductors. Experience with troubleshootingroot cause techniques for electronic assemblies. Experience in using Multimeters, Oscilloscope, Spectrum Analyzer, Network analyzer and power supplies is required. Bonus points if you have: A BS or MS in Electrical Engineering from a top school, but a wonderful project list trumps all Prior startup experience is fantastic but not necessary ; being scrappy will help you hit the ground running. Perks and benefits at Ushva: Competitive salary plus equity A brilliant team working on an array of new Clean technology and IOT ventures that you have the opportunity to create and shape. Skills: C, Embedded Software, ZigBee, IoT, Embedded Firmware Development, WiFi , MQTT , HTTP.'"
      ]
     },
     "execution_count": 13,
     "metadata": {},
     "output_type": "execute_result"
    }
   ],
   "source": [
    "pre_processed[np.random.randint(low=0,high=pre_processed.shape[0])]"
   ]
  },
  {
   "cell_type": "code",
   "execution_count": 14,
   "metadata": {},
   "outputs": [
    {
     "name": "stdout",
     "output_type": "stream",
     "text": [
      "Collecting spacy\n",
      "  Downloading spacy-2.3.5-cp38-cp38-win_amd64.whl (9.7 MB)\n",
      "Requirement already satisfied: tqdm<5.0.0,>=4.38.0 in c:\\programdata\\anaconda3\\lib\\site-packages (from spacy) (4.50.2)\n",
      "Requirement already satisfied: setuptools in c:\\programdata\\anaconda3\\lib\\site-packages (from spacy) (50.3.0.post20201006)\n",
      "Requirement already satisfied: numpy>=1.15.0 in c:\\programdata\\anaconda3\\lib\\site-packages (from spacy) (1.19.2)\n",
      "Collecting wasabi<1.1.0,>=0.4.0\n",
      "  Downloading wasabi-0.8.0-py3-none-any.whl (23 kB)\n",
      "Collecting preshed<3.1.0,>=3.0.2\n",
      "  Downloading preshed-3.0.5-cp38-cp38-win_amd64.whl (112 kB)\n",
      "Collecting plac<1.2.0,>=0.9.6\n",
      "  Downloading plac-1.1.3-py2.py3-none-any.whl (20 kB)\n",
      "Collecting catalogue<1.1.0,>=0.0.7\n",
      "  Downloading catalogue-1.0.0-py2.py3-none-any.whl (7.7 kB)\n",
      "Requirement already satisfied: requests<3.0.0,>=2.13.0 in c:\\programdata\\anaconda3\\lib\\site-packages (from spacy) (2.24.0)\n",
      "Collecting srsly<1.1.0,>=1.0.2\n",
      "  Downloading srsly-1.0.5-cp38-cp38-win_amd64.whl (178 kB)\n",
      "Collecting blis<0.8.0,>=0.4.0\n",
      "  Downloading blis-0.7.4-cp38-cp38-win_amd64.whl (6.5 MB)\n",
      "Collecting cymem<2.1.0,>=2.0.2\n",
      "  Downloading cymem-2.0.5-cp38-cp38-win_amd64.whl (36 kB)\n",
      "Collecting thinc<7.5.0,>=7.4.1\n",
      "  Downloading thinc-7.4.5-cp38-cp38-win_amd64.whl (910 kB)\n",
      "Collecting murmurhash<1.1.0,>=0.28.0\n",
      "  Downloading murmurhash-1.0.5-cp38-cp38-win_amd64.whl (21 kB)\n",
      "Requirement already satisfied: chardet<4,>=3.0.2 in c:\\programdata\\anaconda3\\lib\\site-packages (from requests<3.0.0,>=2.13.0->spacy) (3.0.4)\n",
      "Requirement already satisfied: idna<3,>=2.5 in c:\\programdata\\anaconda3\\lib\\site-packages (from requests<3.0.0,>=2.13.0->spacy) (2.10)\n",
      "Requirement already satisfied: certifi>=2017.4.17 in c:\\programdata\\anaconda3\\lib\\site-packages (from requests<3.0.0,>=2.13.0->spacy) (2020.6.20)\n",
      "Requirement already satisfied: urllib3!=1.25.0,!=1.25.1,<1.26,>=1.21.1 in c:\\programdata\\anaconda3\\lib\\site-packages (from requests<3.0.0,>=2.13.0->spacy) (1.25.11)\n",
      "Installing collected packages: wasabi, cymem, murmurhash, preshed, plac, catalogue, srsly, blis, thinc, spacy\n",
      "Successfully installed blis-0.7.4 catalogue-1.0.0 cymem-2.0.5 murmurhash-1.0.5 plac-1.1.3 preshed-3.0.5 spacy-2.3.5 srsly-1.0.5 thinc-7.4.5 wasabi-0.8.0\n"
     ]
    }
   ],
   "source": [
    "!pip install spacy\n",
    "import spacy"
   ]
  },
  {
   "cell_type": "code",
   "execution_count": 17,
   "metadata": {},
   "outputs": [
    {
     "name": "stdout",
     "output_type": "stream",
     "text": [
      "Collecting en_core_web_sm==2.3.1\n",
      "  Downloading https://github.com/explosion/spacy-models/releases/download/en_core_web_sm-2.3.1/en_core_web_sm-2.3.1.tar.gz (12.0 MB)\n",
      "Requirement already satisfied: spacy<2.4.0,>=2.3.0 in c:\\programdata\\anaconda3\\lib\\site-packages (from en_core_web_sm==2.3.1) (2.3.5)\n",
      "Requirement already satisfied: catalogue<1.1.0,>=0.0.7 in c:\\programdata\\anaconda3\\lib\\site-packages (from spacy<2.4.0,>=2.3.0->en_core_web_sm==2.3.1) (1.0.0)\n",
      "Requirement already satisfied: wasabi<1.1.0,>=0.4.0 in c:\\programdata\\anaconda3\\lib\\site-packages (from spacy<2.4.0,>=2.3.0->en_core_web_sm==2.3.1) (0.8.0)\n",
      "Requirement already satisfied: srsly<1.1.0,>=1.0.2 in c:\\programdata\\anaconda3\\lib\\site-packages (from spacy<2.4.0,>=2.3.0->en_core_web_sm==2.3.1) (1.0.5)\n",
      "Requirement already satisfied: cymem<2.1.0,>=2.0.2 in c:\\programdata\\anaconda3\\lib\\site-packages (from spacy<2.4.0,>=2.3.0->en_core_web_sm==2.3.1) (2.0.5)\n",
      "Requirement already satisfied: plac<1.2.0,>=0.9.6 in c:\\programdata\\anaconda3\\lib\\site-packages (from spacy<2.4.0,>=2.3.0->en_core_web_sm==2.3.1) (1.1.3)\n",
      "Requirement already satisfied: tqdm<5.0.0,>=4.38.0 in c:\\programdata\\anaconda3\\lib\\site-packages (from spacy<2.4.0,>=2.3.0->en_core_web_sm==2.3.1) (4.50.2)\n",
      "Requirement already satisfied: preshed<3.1.0,>=3.0.2 in c:\\programdata\\anaconda3\\lib\\site-packages (from spacy<2.4.0,>=2.3.0->en_core_web_sm==2.3.1) (3.0.5)\n",
      "Requirement already satisfied: requests<3.0.0,>=2.13.0 in c:\\programdata\\anaconda3\\lib\\site-packages (from spacy<2.4.0,>=2.3.0->en_core_web_sm==2.3.1) (2.24.0)\n",
      "Requirement already satisfied: thinc<7.5.0,>=7.4.1 in c:\\programdata\\anaconda3\\lib\\site-packages (from spacy<2.4.0,>=2.3.0->en_core_web_sm==2.3.1) (7.4.5)\n",
      "Requirement already satisfied: numpy>=1.15.0 in c:\\programdata\\anaconda3\\lib\\site-packages (from spacy<2.4.0,>=2.3.0->en_core_web_sm==2.3.1) (1.19.2)\n",
      "Requirement already satisfied: setuptools in c:\\programdata\\anaconda3\\lib\\site-packages (from spacy<2.4.0,>=2.3.0->en_core_web_sm==2.3.1) (50.3.0.post20201006)\n",
      "Requirement already satisfied: murmurhash<1.1.0,>=0.28.0 in c:\\programdata\\anaconda3\\lib\\site-packages (from spacy<2.4.0,>=2.3.0->en_core_web_sm==2.3.1) (1.0.5)\n",
      "Requirement already satisfied: blis<0.8.0,>=0.4.0 in c:\\programdata\\anaconda3\\lib\\site-packages (from spacy<2.4.0,>=2.3.0->en_core_web_sm==2.3.1) (0.7.4)\n",
      "Requirement already satisfied: certifi>=2017.4.17 in c:\\programdata\\anaconda3\\lib\\site-packages (from requests<3.0.0,>=2.13.0->spacy<2.4.0,>=2.3.0->en_core_web_sm==2.3.1) (2020.6.20)\n",
      "Requirement already satisfied: urllib3!=1.25.0,!=1.25.1,<1.26,>=1.21.1 in c:\\programdata\\anaconda3\\lib\\site-packages (from requests<3.0.0,>=2.13.0->spacy<2.4.0,>=2.3.0->en_core_web_sm==2.3.1) (1.25.11)\n",
      "Requirement already satisfied: idna<3,>=2.5 in c:\\programdata\\anaconda3\\lib\\site-packages (from requests<3.0.0,>=2.13.0->spacy<2.4.0,>=2.3.0->en_core_web_sm==2.3.1) (2.10)\n",
      "Requirement already satisfied: chardet<4,>=3.0.2 in c:\\programdata\\anaconda3\\lib\\site-packages (from requests<3.0.0,>=2.13.0->spacy<2.4.0,>=2.3.0->en_core_web_sm==2.3.1) (3.0.4)\n",
      "Building wheels for collected packages: en-core-web-sm\n",
      "  Building wheel for en-core-web-sm (setup.py): started\n",
      "  Building wheel for en-core-web-sm (setup.py): finished with status 'done'\n",
      "  Created wheel for en-core-web-sm: filename=en_core_web_sm-2.3.1-py3-none-any.whl size=12047113 sha256=7faa2b2225c768a9f074462020be9709be2342aeb0929a6bd6784bdb27af1332\n",
      "  Stored in directory: C:\\Users\\alvyn\\AppData\\Local\\Temp\\pip-ephem-wheel-cache-ermxe0ra\\wheels\\ee\\4d\\f7\\563214122be1540b5f9197b52cb3ddb9c4a8070808b22d5a84\n",
      "Successfully built en-core-web-sm\n",
      "Installing collected packages: en-core-web-sm\n",
      "Successfully installed en-core-web-sm-2.3.1\n",
      "[+] Download and installation successful\n",
      "You can now load the model via spacy.load('en_core_web_sm')\n"
     ]
    }
   ],
   "source": [
    "!python -m spacy download en_core_web_sm"
   ]
  },
  {
   "cell_type": "code",
   "execution_count": 20,
   "metadata": {},
   "outputs": [
    {
     "name": "stdout",
     "output_type": "stream",
     "text": [
      "Collecting en_core_web_md==2.3.1\n",
      "  Downloading https://github.com/explosion/spacy-models/releases/download/en_core_web_md-2.3.1/en_core_web_md-2.3.1.tar.gz (50.8 MB)\n",
      "Requirement already satisfied: spacy<2.4.0,>=2.3.0 in c:\\programdata\\anaconda3\\lib\\site-packages (from en_core_web_md==2.3.1) (2.3.5)\n",
      "Requirement already satisfied: wasabi<1.1.0,>=0.4.0 in c:\\programdata\\anaconda3\\lib\\site-packages (from spacy<2.4.0,>=2.3.0->en_core_web_md==2.3.1) (0.8.0)\n",
      "Requirement already satisfied: setuptools in c:\\programdata\\anaconda3\\lib\\site-packages (from spacy<2.4.0,>=2.3.0->en_core_web_md==2.3.1) (50.3.0.post20201006)\n",
      "Requirement already satisfied: tqdm<5.0.0,>=4.38.0 in c:\\programdata\\anaconda3\\lib\\site-packages (from spacy<2.4.0,>=2.3.0->en_core_web_md==2.3.1) (4.50.2)\n",
      "Requirement already satisfied: murmurhash<1.1.0,>=0.28.0 in c:\\programdata\\anaconda3\\lib\\site-packages (from spacy<2.4.0,>=2.3.0->en_core_web_md==2.3.1) (1.0.5)\n",
      "Requirement already satisfied: numpy>=1.15.0 in c:\\programdata\\anaconda3\\lib\\site-packages (from spacy<2.4.0,>=2.3.0->en_core_web_md==2.3.1) (1.19.2)\n",
      "Requirement already satisfied: catalogue<1.1.0,>=0.0.7 in c:\\programdata\\anaconda3\\lib\\site-packages (from spacy<2.4.0,>=2.3.0->en_core_web_md==2.3.1) (1.0.0)\n",
      "Requirement already satisfied: srsly<1.1.0,>=1.0.2 in c:\\programdata\\anaconda3\\lib\\site-packages (from spacy<2.4.0,>=2.3.0->en_core_web_md==2.3.1) (1.0.5)\n",
      "Requirement already satisfied: blis<0.8.0,>=0.4.0 in c:\\programdata\\anaconda3\\lib\\site-packages (from spacy<2.4.0,>=2.3.0->en_core_web_md==2.3.1) (0.7.4)\n",
      "Requirement already satisfied: thinc<7.5.0,>=7.4.1 in c:\\programdata\\anaconda3\\lib\\site-packages (from spacy<2.4.0,>=2.3.0->en_core_web_md==2.3.1) (7.4.5)\n",
      "Requirement already satisfied: preshed<3.1.0,>=3.0.2 in c:\\programdata\\anaconda3\\lib\\site-packages (from spacy<2.4.0,>=2.3.0->en_core_web_md==2.3.1) (3.0.5)\n",
      "Requirement already satisfied: cymem<2.1.0,>=2.0.2 in c:\\programdata\\anaconda3\\lib\\site-packages (from spacy<2.4.0,>=2.3.0->en_core_web_md==2.3.1) (2.0.5)\n",
      "Requirement already satisfied: requests<3.0.0,>=2.13.0 in c:\\programdata\\anaconda3\\lib\\site-packages (from spacy<2.4.0,>=2.3.0->en_core_web_md==2.3.1) (2.24.0)\n",
      "Requirement already satisfied: plac<1.2.0,>=0.9.6 in c:\\programdata\\anaconda3\\lib\\site-packages (from spacy<2.4.0,>=2.3.0->en_core_web_md==2.3.1) (1.1.3)\n",
      "Requirement already satisfied: urllib3!=1.25.0,!=1.25.1,<1.26,>=1.21.1 in c:\\programdata\\anaconda3\\lib\\site-packages (from requests<3.0.0,>=2.13.0->spacy<2.4.0,>=2.3.0->en_core_web_md==2.3.1) (1.25.11)\n",
      "Requirement already satisfied: chardet<4,>=3.0.2 in c:\\programdata\\anaconda3\\lib\\site-packages (from requests<3.0.0,>=2.13.0->spacy<2.4.0,>=2.3.0->en_core_web_md==2.3.1) (3.0.4)\n",
      "Requirement already satisfied: certifi>=2017.4.17 in c:\\programdata\\anaconda3\\lib\\site-packages (from requests<3.0.0,>=2.13.0->spacy<2.4.0,>=2.3.0->en_core_web_md==2.3.1) (2020.6.20)\n",
      "Requirement already satisfied: idna<3,>=2.5 in c:\\programdata\\anaconda3\\lib\\site-packages (from requests<3.0.0,>=2.13.0->spacy<2.4.0,>=2.3.0->en_core_web_md==2.3.1) (2.10)\n",
      "Building wheels for collected packages: en-core-web-md\n",
      "  Building wheel for en-core-web-md (setup.py): started\n",
      "  Building wheel for en-core-web-md (setup.py): finished with status 'done'\n",
      "  Created wheel for en-core-web-md: filename=en_core_web_md-2.3.1-py3-none-any.whl size=50916645 sha256=100d3858b922bce92c9c6aa3e7ffa39c6a318dfaf316bf9787da163a64072b3a\n",
      "  Stored in directory: C:\\Users\\alvyn\\AppData\\Local\\Temp\\pip-ephem-wheel-cache-27vz7qky\\wheels\\b8\\ae\\ae\\c63bae74a3b3e18b2fa35e179387e6cdeb03a1c479ed45c351\n",
      "Successfully built en-core-web-md\n",
      "Installing collected packages: en-core-web-md\n",
      "Successfully installed en-core-web-md-2.3.1\n",
      "[+] Download and installation successful\n",
      "You can now load the model via spacy.load('en_core_web_md')\n"
     ]
    }
   ],
   "source": [
    "!python -m spacy download en_core_web_md"
   ]
  },
  {
   "cell_type": "code",
   "execution_count": 22,
   "metadata": {},
   "outputs": [],
   "source": [
    "import en_core_web_sm\n",
    "nlp = en_core_web_sm.load()"
   ]
  },
  {
   "cell_type": "code",
   "execution_count": 23,
   "metadata": {},
   "outputs": [
    {
     "data": {
      "text/plain": [
       "['tagger', 'parser', 'ner']"
      ]
     },
     "execution_count": 23,
     "metadata": {},
     "output_type": "execute_result"
    }
   ],
   "source": [
    "nlp.pipe_names"
   ]
  },
  {
   "cell_type": "code",
   "execution_count": 24,
   "metadata": {},
   "outputs": [
    {
     "data": {
      "text/plain": [
       "Australia wants to force Facebook and Google to pay media companies for news"
      ]
     },
     "execution_count": 24,
     "metadata": {},
     "output_type": "execute_result"
    }
   ],
   "source": [
    "nlp('Australia wants to force Facebook and Google to pay media companies for news')"
   ]
  },
  {
   "cell_type": "code",
   "execution_count": 25,
   "metadata": {},
   "outputs": [],
   "source": [
    "doc = nlp('Australia wants to force Facebook and Google to pay media companies for news')"
   ]
  },
  {
   "cell_type": "code",
   "execution_count": 31,
   "metadata": {},
   "outputs": [
    {
     "name": "stdout",
     "output_type": "stream",
     "text": [
      "Text: Australia\t\tLabel: GPE\n",
      "Text: Facebook\t\tLabel: ORG\n",
      "Text: Google\t\tLabel: ORG\n"
     ]
    }
   ],
   "source": [
    "for ent in doc.ents:\n",
    "    print(f'Text: {ent.text}\\t\\tLabel: {ent.label_}')"
   ]
  },
  {
   "cell_type": "code",
   "execution_count": 32,
   "metadata": {},
   "outputs": [
    {
     "name": "stdout",
     "output_type": "stream",
     "text": [
      "Collecting en_core_web_lg==2.3.1\n",
      "  Downloading https://github.com/explosion/spacy-models/releases/download/en_core_web_lg-2.3.1/en_core_web_lg-2.3.1.tar.gz (782.7 MB)\n",
      "Requirement already satisfied: spacy<2.4.0,>=2.3.0 in c:\\programdata\\anaconda3\\lib\\site-packages (from en_core_web_lg==2.3.1) (2.3.5)\n",
      "Requirement already satisfied: wasabi<1.1.0,>=0.4.0 in c:\\programdata\\anaconda3\\lib\\site-packages (from spacy<2.4.0,>=2.3.0->en_core_web_lg==2.3.1) (0.8.0)\n",
      "Requirement already satisfied: blis<0.8.0,>=0.4.0 in c:\\programdata\\anaconda3\\lib\\site-packages (from spacy<2.4.0,>=2.3.0->en_core_web_lg==2.3.1) (0.7.4)\n",
      "Requirement already satisfied: numpy>=1.15.0 in c:\\programdata\\anaconda3\\lib\\site-packages (from spacy<2.4.0,>=2.3.0->en_core_web_lg==2.3.1) (1.19.2)\n",
      "Requirement already satisfied: murmurhash<1.1.0,>=0.28.0 in c:\\programdata\\anaconda3\\lib\\site-packages (from spacy<2.4.0,>=2.3.0->en_core_web_lg==2.3.1) (1.0.5)\n",
      "Requirement already satisfied: cymem<2.1.0,>=2.0.2 in c:\\programdata\\anaconda3\\lib\\site-packages (from spacy<2.4.0,>=2.3.0->en_core_web_lg==2.3.1) (2.0.5)\n",
      "Requirement already satisfied: tqdm<5.0.0,>=4.38.0 in c:\\programdata\\anaconda3\\lib\\site-packages (from spacy<2.4.0,>=2.3.0->en_core_web_lg==2.3.1) (4.50.2)\n",
      "Requirement already satisfied: thinc<7.5.0,>=7.4.1 in c:\\programdata\\anaconda3\\lib\\site-packages (from spacy<2.4.0,>=2.3.0->en_core_web_lg==2.3.1) (7.4.5)\n",
      "Requirement already satisfied: requests<3.0.0,>=2.13.0 in c:\\programdata\\anaconda3\\lib\\site-packages (from spacy<2.4.0,>=2.3.0->en_core_web_lg==2.3.1) (2.24.0)\n",
      "Requirement already satisfied: srsly<1.1.0,>=1.0.2 in c:\\programdata\\anaconda3\\lib\\site-packages (from spacy<2.4.0,>=2.3.0->en_core_web_lg==2.3.1) (1.0.5)\n",
      "Requirement already satisfied: setuptools in c:\\programdata\\anaconda3\\lib\\site-packages (from spacy<2.4.0,>=2.3.0->en_core_web_lg==2.3.1) (50.3.0.post20201006)\n",
      "Requirement already satisfied: preshed<3.1.0,>=3.0.2 in c:\\programdata\\anaconda3\\lib\\site-packages (from spacy<2.4.0,>=2.3.0->en_core_web_lg==2.3.1) (3.0.5)\n",
      "Requirement already satisfied: catalogue<1.1.0,>=0.0.7 in c:\\programdata\\anaconda3\\lib\\site-packages (from spacy<2.4.0,>=2.3.0->en_core_web_lg==2.3.1) (1.0.0)\n",
      "Requirement already satisfied: plac<1.2.0,>=0.9.6 in c:\\programdata\\anaconda3\\lib\\site-packages (from spacy<2.4.0,>=2.3.0->en_core_web_lg==2.3.1) (1.1.3)\n",
      "Requirement already satisfied: chardet<4,>=3.0.2 in c:\\programdata\\anaconda3\\lib\\site-packages (from requests<3.0.0,>=2.13.0->spacy<2.4.0,>=2.3.0->en_core_web_lg==2.3.1) (3.0.4)\n",
      "Requirement already satisfied: urllib3!=1.25.0,!=1.25.1,<1.26,>=1.21.1 in c:\\programdata\\anaconda3\\lib\\site-packages (from requests<3.0.0,>=2.13.0->spacy<2.4.0,>=2.3.0->en_core_web_lg==2.3.1) (1.25.11)\n",
      "Requirement already satisfied: certifi>=2017.4.17 in c:\\programdata\\anaconda3\\lib\\site-packages (from requests<3.0.0,>=2.13.0->spacy<2.4.0,>=2.3.0->en_core_web_lg==2.3.1) (2020.6.20)\n",
      "Requirement already satisfied: idna<3,>=2.5 in c:\\programdata\\anaconda3\\lib\\site-packages (from requests<3.0.0,>=2.13.0->spacy<2.4.0,>=2.3.0->en_core_web_lg==2.3.1) (2.10)\n",
      "Building wheels for collected packages: en-core-web-lg\n",
      "  Building wheel for en-core-web-lg (setup.py): started\n",
      "  Building wheel for en-core-web-lg (setup.py): still running...\n",
      "  Building wheel for en-core-web-lg (setup.py): finished with status 'done'\n",
      "  Created wheel for en-core-web-lg: filename=en_core_web_lg-2.3.1-py3-none-any.whl size=782936127 sha256=229464a87a85223804c22da651389e484bd3f35770860924fc7ee3f99cd57ba6\n",
      "  Stored in directory: C:\\Users\\alvyn\\AppData\\Local\\Temp\\pip-ephem-wheel-cache-aj9uki0s\\wheels\\8b\\bb\\bb\\bdc918f4b37d930a1be9ed876e7b2c2ee518a34803d78a248e\n",
      "Successfully built en-core-web-lg\n",
      "Installing collected packages: en-core-web-lg\n",
      "Successfully installed en-core-web-lg-2.3.1\n",
      "[+] Download and installation successful\n",
      "You can now load the model via spacy.load('en_core_web_lg')\n"
     ]
    }
   ],
   "source": [
    "!python -m spacy download en_core_web_lg"
   ]
  },
  {
   "cell_type": "code",
   "execution_count": 33,
   "metadata": {},
   "outputs": [],
   "source": [
    "ner = nlp.get_pipe('ner')"
   ]
  },
  {
   "cell_type": "code",
   "execution_count": 35,
   "metadata": {},
   "outputs": [],
   "source": [
    "# JT -> Job Timing\n",
    "# ORG -> Organization\n",
    "# JR -> Job Role\n",
    "# JS -> Job Skill\n",
    "# QN -> Qualification\n",
    "# DOC -> Documents\n",
    "# PL -> Programming Language\n",
    "# PF -> Programming Framework\n",
    "train = [\n",
    "    (\n",
    "        'Official Job posted from SwiggyJoin Swiggy family as Part-Time or a Full-time Food Delivery executive.', \n",
    "        {'entities':[(25,31,'ORG'),(36,42,'ORG'),(53,63,'JT'),(68,77,'JT'),(78, 101, 'JR')]}\n",
    "    ),\n",
    "    (\n",
    "        'Who can be an ideal Rider Driver Delivery Boy Logistics AdminDelivery Executive for Swiggy?', \n",
    "        {'entities':[(14,32,'JS'),(33,45,'JS'),(46,61,'JS'),(61,79,'JS'),(84,90,'ORG')]}\n",
    "    ),\n",
    "    (\n",
    "        'Minimum qualification - Fresher, 10th pass, 12th pass, Graduate, New Graduates, Trainee Candidates',\n",
    "        {'entities':[(24,31,'QN'),(33,42,'QN'),(42,53,'QN'),(55,63,'QN'),(65,78,'QN'),(80,99,'QN')]}\n",
    "    ),\n",
    "    (\n",
    "        'with prior experience in Data entry, Call Centre, Admin, Collection Agents, Collection Executives, Customer Support Executive, Office Assistant, Driver, Delivery Boys, Back Office, Teacher, Banking, Accounts, Operator can apply to maximize their earnings up to 25,000 per month.',\n",
    "        {'entities':[(25,35,'JR'),(37,48,'JR'),(50,55,'JR'),(57,74,'JR'),(76,96,'JR'),(98,125,'JR'),(127,143,'JR'),(145,151,'JR'),(153,166,'JR'),(168,179,'JR'),(181,188,'JR'),(190,197,'JR'),(199,207,'JR'),(209,217,'JR')]}\n",
    "    ),\n",
    "    (\n",
    "        'Documents to be carried for Walk-in: Valid Two-wheeler Driver License and Driver RC book PAN Card or',\n",
    "        {'entities':[(37,69,'DOC'),(74,88,'DOC'),(89,97,'DOC')]}\n",
    "    ),\n",
    "    (\n",
    "        'Acknowledgment of PAN application Aadhaar Card or voter ID Benefits:',\n",
    "        {'entities':[(0,33,'DOC'),(34,46,'DOC'),(49,58,'DOC')]}\n",
    "    ),\n",
    "    (\n",
    "        'Flexible working hours for security guards, computer operators,',\n",
    "        {'entities':[(27,42,'JR'),(44,62,'JR')]}\n",
    "    ),\n",
    "    (\n",
    "        'account executives night shifts weekend Attractive Weekly, weekend and monthly Incentives for 10th pass, 12th pass',\n",
    "        {'entities':[(0,18,'JR'),(19,31,'JT'),(32,39,'JT'),(94,103,'QN'),(105,114,'QN')]}\n",
    "    )\n",
    "]\n",
    "# Insurance Cover up to Rs 6,00,000 - EMI option is possible if you don’t have a BIKE Potential to earn for Full \\\n",
    "# timePart-timeNight shiftWeekend : Up to 8500 INRweek Salary: Up to ₹35,000.00 month Job Types: Full-time, Part-time, \\\n",
    "# Temporary, Contract, Commission, Fresher, ... Salary: ₹25,000.00 to ₹35,000.00 month Benefits: Health insurance \\\n",
    "# Provident fund PF Travel allowance Meal cardFood coupons Flexible work hours PhoneInternet reimbursement Joining \\\n",
    "# bonus Shift allowance Industry: Food Preparation & Service Job Duties: Delivering to residential locations"
   ]
  },
  {
   "cell_type": "code",
   "execution_count": 38,
   "metadata": {},
   "outputs": [
    {
     "name": "stdout",
     "output_type": "stream",
     "text": [
      "ORG\n",
      "ORG\n",
      "JT\n",
      "JT\n",
      "JR\n",
      "JS\n",
      "JS\n",
      "JS\n",
      "JS\n",
      "ORG\n",
      "QN\n",
      "QN\n",
      "QN\n",
      "QN\n",
      "QN\n",
      "QN\n",
      "JR\n",
      "JR\n",
      "JR\n",
      "JR\n",
      "JR\n",
      "JR\n",
      "JR\n",
      "JR\n",
      "JR\n",
      "JR\n",
      "JR\n",
      "JR\n",
      "JR\n",
      "JR\n",
      "DOC\n",
      "DOC\n",
      "DOC\n",
      "DOC\n",
      "DOC\n",
      "DOC\n",
      "JR\n",
      "JR\n",
      "JR\n",
      "JT\n",
      "JT\n",
      "QN\n",
      "QN\n"
     ]
    }
   ],
   "source": [
    "for _, annotations in train:\n",
    "    for ent in annotations.get('entities'):\n",
    "        print(ent[2])"
   ]
  },
  {
   "cell_type": "code",
   "execution_count": 39,
   "metadata": {},
   "outputs": [],
   "source": [
    "disable_pipes = [pipe for pipe in nlp.pipe_names if pipe != 'ner']"
   ]
  },
  {
   "cell_type": "code",
   "execution_count": 40,
   "metadata": {},
   "outputs": [
    {
     "data": {
      "text/plain": [
       "['tagger', 'parser']"
      ]
     },
     "execution_count": 40,
     "metadata": {},
     "output_type": "execute_result"
    }
   ],
   "source": [
    "disable_pipes"
   ]
  },
  {
   "cell_type": "code",
   "execution_count": null,
   "metadata": {},
   "outputs": [],
   "source": []
  }
 ],
 "metadata": {
  "kernelspec": {
   "display_name": "Python 3",
   "language": "python",
   "name": "python3"
  },
  "language_info": {
   "codemirror_mode": {
    "name": "ipython",
    "version": 3
   },
   "file_extension": ".py",
   "mimetype": "text/x-python",
   "name": "python",
   "nbconvert_exporter": "python",
   "pygments_lexer": "ipython3",
   "version": "3.8.5"
  }
 },
 "nbformat": 4,
 "nbformat_minor": 2
}
